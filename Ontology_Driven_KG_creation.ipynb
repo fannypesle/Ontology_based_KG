{
  "nbformat": 4,
  "nbformat_minor": 0,
  "metadata": {
    "colab": {
      "provenance": [],
      "collapsed_sections": [],
      "include_colab_link": true
    },
    "kernelspec": {
      "name": "python3",
      "display_name": "Python 3"
    },
    "language_info": {
      "name": "python"
    }
  },
  "cells": [
    {
      "cell_type": "markdown",
      "metadata": {
        "id": "view-in-github",
        "colab_type": "text"
      },
      "source": [
        "<a href=\"https://colab.research.google.com/github/fannypesle/Ontology_based_KG/blob/main/Ontology_Driven_KG_creation.ipynb\" target=\"_parent\"><img src=\"https://colab.research.google.com/assets/colab-badge.svg\" alt=\"Open In Colab\"/></a>"
      ]
    },
    {
      "cell_type": "code",
      "execution_count": null,
      "metadata": {
        "id": "uhuV0UJzbekv",
        "outputId": "641b3137-e887-4566-c8b3-f3c601624cb4",
        "colab": {
          "base_uri": "https://localhost:8080/"
        }
      },
      "outputs": [
        {
          "output_type": "stream",
          "name": "stdout",
          "text": [
            "Looking in indexes: https://pypi.org/simple, https://us-python.pkg.dev/colab-wheels/public/simple/\n",
            "Collecting rdflib\n",
            "  Downloading rdflib-6.2.0-py3-none-any.whl (500 kB)\n",
            "\u001b[K     |████████████████████████████████| 500 kB 2.1 MB/s \n",
            "\u001b[?25hCollecting neo4j\n",
            "  Downloading neo4j-5.0.1.tar.gz (172 kB)\n",
            "\u001b[K     |████████████████████████████████| 172 kB 63.7 MB/s \n",
            "\u001b[?25hRequirement already satisfied: importlib-metadata in /usr/local/lib/python3.7/dist-packages (from rdflib) (4.12.0)\n",
            "Requirement already satisfied: setuptools in /usr/local/lib/python3.7/dist-packages (from rdflib) (57.4.0)\n",
            "Requirement already satisfied: pyparsing in /usr/local/lib/python3.7/dist-packages (from rdflib) (3.0.9)\n",
            "Collecting isodate\n",
            "  Downloading isodate-0.6.1-py2.py3-none-any.whl (41 kB)\n",
            "\u001b[K     |████████████████████████████████| 41 kB 619 kB/s \n",
            "\u001b[?25hRequirement already satisfied: pytz in /usr/local/lib/python3.7/dist-packages (from neo4j) (2022.2.1)\n",
            "Requirement already satisfied: zipp>=0.5 in /usr/local/lib/python3.7/dist-packages (from importlib-metadata->rdflib) (3.8.1)\n",
            "Requirement already satisfied: typing-extensions>=3.6.4 in /usr/local/lib/python3.7/dist-packages (from importlib-metadata->rdflib) (4.1.1)\n",
            "Requirement already satisfied: six in /usr/local/lib/python3.7/dist-packages (from isodate->rdflib) (1.15.0)\n",
            "Building wheels for collected packages: neo4j\n",
            "  Building wheel for neo4j (setup.py) ... \u001b[?25l\u001b[?25hdone\n",
            "  Created wheel for neo4j: filename=neo4j-5.0.1-py3-none-any.whl size=247601 sha256=17306379cfd693250ff0d0fe3bcd54e3b7155f6dd43f1976b2db34b39ae14bce\n",
            "  Stored in directory: /root/.cache/pip/wheels/9e/e0/7a/52a22f48f0998391dd2c95b1975f4c1b96810c3feeb4ae1bee\n",
            "Successfully built neo4j\n",
            "Installing collected packages: isodate, rdflib, neo4j\n",
            "Successfully installed isodate-0.6.1 neo4j-5.0.1 rdflib-6.2.0\n"
          ]
        }
      ],
      "source": [
        "pip install rdflib neo4j"
      ]
    },
    {
      "cell_type": "code",
      "source": [
        "import rdflib, time"
      ],
      "metadata": {
        "id": "qf3yMwgyVg05"
      },
      "execution_count": null,
      "outputs": []
    },
    {
      "cell_type": "code",
      "source": [
        "#utility function to get the local part of a URI (stripping out the namespace)\n",
        "\n",
        "def getLocalPart(uri):\n",
        "  pos = -1\n",
        "  pos = uri.rfind('#') \n",
        "  if pos < 0 :\n",
        "    pos = uri.rfind('/')  \n",
        "  if pos < 0 :\n",
        "    pos = uri.rindex(':')\n",
        "  return uri[pos+1:]\n",
        "\n",
        "def getNamespacePart(uri):\n",
        "  pos = -1\n",
        "  pos = uri.rfind('#') \n",
        "  if pos < 0 :\n",
        "    pos = uri.rfind('/')  \n",
        "  if pos < 0 :\n",
        "    pos = uri.rindex(':')\n",
        "  return uri[0:pos+1]\n",
        "\n",
        "# quick test\n",
        "print(getLocalPart(\"http://onto.neo4j.com/rail#Station\"))\n",
        "print(getNamespacePart(\"http://onto.neo4j.com/rail#Station\"))"
      ],
      "metadata": {
        "id": "eRYK8Uvk67jQ",
        "outputId": "52b7949a-0ec6-4630-b25a-dfb8953adabb",
        "colab": {
          "base_uri": "https://localhost:8080/"
        }
      },
      "execution_count": null,
      "outputs": [
        {
          "output_type": "stream",
          "name": "stdout",
          "text": [
            "Station\n",
            "http://onto.neo4j.com/rail#\n"
          ]
        }
      ]
    },
    {
      "cell_type": "code",
      "source": [
        "# processing the ontology...\n",
        " \n",
        "g = rdflib.Graph()\n",
        "g.parse(\"https://raw.githubusercontent.com/jbarrasa/goingmeta/main/session5/ontos/rail.ttl\", format='turtle')\n",
        "\n",
        "simple_query = \"\"\"\n",
        "prefix owl: <http://www.w3.org/2002/07/owl#> \n",
        "prefix rdf: <http://www.w3.org/1999/02/22-rdf-syntax-ns#> \n",
        "\n",
        "SELECT DISTINCT ?c\n",
        "  WHERE {\n",
        "    ?c rdf:type owl:Class .    \n",
        "  } \"\"\"\n",
        "\n",
        "for row in g.query(simple_query):\n",
        "    print(str(row.c), getLocalPart(str(row.c)), getNamespacePart(str(row.c)))\n"
      ],
      "metadata": {
        "id": "I_oshqtSP_fe",
        "outputId": "52667cf1-60ea-4248-af2f-3d99b6644d67",
        "colab": {
          "base_uri": "https://localhost:8080/"
        }
      },
      "execution_count": null,
      "outputs": [
        {
          "output_type": "stream",
          "name": "stdout",
          "text": [
            "http://onto.neo4j.com/rail#Event Event http://onto.neo4j.com/rail#\n",
            "http://onto.neo4j.com/rail#Station Station http://onto.neo4j.com/rail#\n"
          ]
        }
      ]
    },
    {
      "cell_type": "code",
      "source": [
        "# read the onto and generate cypher (complete without mappings)\n",
        "\n",
        "g = rdflib.Graph()\n",
        "g.parse(\"https://raw.githubusercontent.com/jbarrasa/goingmeta/main/session5/ontos/rail.ttl\", format='turtle')\n",
        "\n",
        "classes_and_props_query = \"\"\"\n",
        "prefix owl: <http://www.w3.org/2002/07/owl#> \n",
        "prefix rdf: <http://www.w3.org/1999/02/22-rdf-syntax-ns#> \n",
        "\n",
        "SELECT DISTINCT ?curi (GROUP_CONCAT(DISTINCT ?propTypePair ; SEPARATOR=\",\") AS ?props)\n",
        "WHERE {\n",
        "    ?curi rdf:type owl:Class .\n",
        "    optional { \n",
        "      ?prop rdfs:domain ?curi ;\n",
        "        a owl:DatatypeProperty ;\n",
        "        rdfs:range ?range .\n",
        "      BIND (concat(str(?prop),';',str(?range)) AS ?propTypePair)\n",
        "    }\n",
        "  } GROUP BY ?curi  \"\"\"\n",
        "\n",
        "cypher_list = []\n",
        "\n",
        "for row in g.query(classes_and_props_query):\n",
        "    cypher = []\n",
        "    cypher.append(\"unwind $records AS record\")\n",
        "    cypher.append(\"merge (n:\" + getLocalPart(row.curi) + \" { `<id_prop>`: record.`<col with id>`} )\")\n",
        "    for pair in row.props.split(\",\"):\n",
        "      propName = pair.split(\";\")[0]\n",
        "      propType = pair.split(\";\")[1]\n",
        "      cypher.append(\"set n.\" + getLocalPart(propName) + \" = record.`<col with value for \" + getLocalPart(propName) + \">`\")\n",
        "    cypher.append(\"return count(*) as total\") \n",
        "    cypher_list.append(' \\n'.join(cypher))\n",
        "\n",
        "\n",
        "rels_query = \"\"\"\n",
        "prefix owl: <http://www.w3.org/2002/07/owl#> \n",
        "prefix rdf: <http://www.w3.org/1999/02/22-rdf-syntax-ns#> \n",
        "\n",
        "SELECT DISTINCT ?rel ?dom ?ran #(GROUP_CONCAT(DISTINCT ?relTriplet ; SEPARATOR=\",\") AS ?rels)\n",
        "WHERE {\n",
        "    ?rel a ?propertyClass .\n",
        "    filter(?propertyClass in (rdf:Property, owl:ObjectProperty, owl:FunctionalProperty, owl:AsymmetricProperty, \n",
        "           owl:InverseFunctionalProperty, owl:IrreflexiveProperty, owl:ReflexiveProperty, owl:SymmetricProperty, owl:TransitiveProperty))\n",
        "    \n",
        "    ?rel rdfs:domain ?dom ;\n",
        "      rdfs:range ?ran .\n",
        "    \n",
        "    #BIND (concat(str(?rel),';',str(?dom),';',str(?range)) AS ?relTriplet)\n",
        "    \n",
        "  }\"\"\"\n",
        "\n",
        "\n",
        "for row in g.query(rels_query):\n",
        "  cypher = []\n",
        "  cypher.append(\"unwind $records AS record\")\n",
        "  cypher.append(\"match (source:\" + getLocalPart(row.dom) + \" { `<id_prop>`: record.`<col with source id>`} )\")\n",
        "  cypher.append(\"match (target:\" + getLocalPart(row.ran) + \" { `<id_prop>`: record.`<col with target id>`} )\")\n",
        "  cypher.append(\"merge (source)-[r:`\"+ getLocalPart(row.rel) +\"`]->(target)\")\n",
        "  cypher.append(\"return count(*) as total\") \n",
        "  cypher_list.append(' \\n'.join(cypher))\n",
        "\n",
        "for q in cypher_list:\n",
        "  print(\"\\n\\n\" + q)\n"
      ],
      "metadata": {
        "id": "5jtsSEJnbtVq",
        "outputId": "cb90b4c7-4e50-4cf8-cc3a-e50a4c054c35",
        "colab": {
          "base_uri": "https://localhost:8080/"
        }
      },
      "execution_count": null,
      "outputs": [
        {
          "output_type": "stream",
          "name": "stdout",
          "text": [
            "\n",
            "\n",
            "unwind $records AS record \n",
            "merge (n:Event { `<id_prop>`: record.`<col with id>`} ) \n",
            "set n.eventDescription = record.`<col with value for eventDescription>` \n",
            "set n.eventId = record.`<col with value for eventId>` \n",
            "set n.eventType = record.`<col with value for eventType>` \n",
            "return count(*) as total\n",
            "\n",
            "\n",
            "unwind $records AS record \n",
            "merge (n:Station { `<id_prop>`: record.`<col with id>`} ) \n",
            "set n.lat = record.`<col with value for lat>` \n",
            "set n.long = record.`<col with value for long>` \n",
            "set n.stationAddress = record.`<col with value for stationAddress>` \n",
            "set n.stationCode = record.`<col with value for stationCode>` \n",
            "set n.stationName = record.`<col with value for stationName>` \n",
            "return count(*) as total\n",
            "\n",
            "\n",
            "unwind $records AS record \n",
            "match (source:Event { `<id_prop>`: record.`<col with source id>`} ) \n",
            "match (target:Station { `<id_prop>`: record.`<col with target id>`} ) \n",
            "merge (source)-[r:`affects`]->(target) \n",
            "return count(*) as total\n",
            "\n",
            "\n",
            "unwind $records AS record \n",
            "match (source:Station { `<id_prop>`: record.`<col with source id>`} ) \n",
            "match (target:Station { `<id_prop>`: record.`<col with target id>`} ) \n",
            "merge (source)-[r:`link`]->(target) \n",
            "return count(*) as total\n"
          ]
        }
      ]
    },
    {
      "cell_type": "code",
      "source": [
        "railMappings = {}\n",
        "\n",
        "stationMapping = {}\n",
        "stationMapping[\"@fileName\"] = \"https://raw.githubusercontent.com/jbarrasa/goingmeta/main/session5/data/nr-stations-all.csv\"\n",
        "stationMapping[\"@uniqueId\"] = \"stationCode\"\n",
        "stationMapping[\"lat\"] = \"lat\"\n",
        "stationMapping[\"long\"] = \"long\"\n",
        "stationMapping[\"stationAddress\"] = \"address\"\n",
        "stationMapping[\"stationCode\"] = \"crs\"\n",
        "stationMapping[\"stationName\"] = \"name\"\n",
        "railMappings[\"Station\"] = stationMapping\n",
        "\n",
        "eventMapping = {}\n",
        "eventMapping[\"@fileName\"] = \"https://raw.githubusercontent.com/jbarrasa/goingmeta/main/session5/data/nr-events.csv\"\n",
        "eventMapping[\"@uniqueId\"] = \"eventId\"\n",
        "eventMapping[\"eventDescription\"] = \"desc\"\n",
        "eventMapping[\"eventId\"] = \"id\"\n",
        "eventMapping[\"timestamp\"] = \"ts\"\n",
        "eventMapping[\"eventType\"] = \"type\"\n",
        "railMappings[\"Event\"] = eventMapping\n",
        "\n",
        "linkMapping = {}\n",
        "linkMapping[\"@fileName\"] = \"https://raw.githubusercontent.com/jbarrasa/goingmeta/main/session5/data/nr-station-links.csv\"\n",
        "linkMapping[\"@from\"] = \"origin\"\n",
        "linkMapping[\"@to\"] = \"destination\"\n",
        "railMappings[\"link\"] = linkMapping\n",
        "\n",
        "affectsMapping = {}\n",
        "affectsMapping[\"@fileName\"] = \"https://raw.githubusercontent.com/jbarrasa/goingmeta/main/session5/data/nr-events.csv\"\n",
        "affectsMapping[\"@from\"] = \"id\"\n",
        "affectsMapping[\"@to\"] = \"Station\"\n",
        "railMappings[\"affects\"] = affectsMapping\n",
        "\n",
        "# show it?\n",
        "railMappings"
      ],
      "metadata": {
        "id": "F4GP70jAf8v2"
      },
      "execution_count": null,
      "outputs": []
    },
    {
      "cell_type": "code",
      "source": [
        "#copy of previous but using the mappings\n",
        "def getLoadersFromOnto(onto, rdf_format, mappings):\n",
        "  g = rdflib.Graph()\n",
        "  g.parse(onto, format= rdf_format)\n",
        "\n",
        "  classes_and_props_query = \"\"\"\n",
        "  prefix owl: <http://www.w3.org/2002/07/owl#> \n",
        "  prefix rdf: <http://www.w3.org/1999/02/22-rdf-syntax-ns#> \n",
        "\n",
        "  SELECT DISTINCT ?curi (GROUP_CONCAT(DISTINCT ?propTypePair ; SEPARATOR=\",\") AS ?props)\n",
        "  WHERE {\n",
        "      ?curi rdf:type owl:Class .\n",
        "      optional { \n",
        "        ?prop rdfs:domain ?curi ;\n",
        "          a owl:DatatypeProperty ;\n",
        "          rdfs:range ?range .\n",
        "        BIND (concat(str(?prop),';',str(?range)) AS ?propTypePair)\n",
        "      }\n",
        "    } GROUP BY ?curi  \"\"\"\n",
        "\n",
        "  cypher_import = {}\n",
        "  export_ns = set()\n",
        "  export_mappings = {}\n",
        "\n",
        "  for row in g.query(classes_and_props_query):\n",
        "      export_ns.add(getNamespacePart(row.curi))\n",
        "      export_mappings[getLocalPart(row.curi)] = str(row.curi)\n",
        "      cypher = []\n",
        "      cypher.append(\"unwind $records AS record\")\n",
        "      cypher.append(\"merge (n:\" + getLocalPart(row.curi) + \" { `\" + mappings[getLocalPart(row.curi)][\"@uniqueId\"] + \"`: record.`\" + mappings[getLocalPart(row.curi)][mappings[getLocalPart(row.curi)][\"@uniqueId\"]] + \"`} )\")\n",
        "      for pair in row.props.split(\",\"):      \n",
        "        propName = pair.split(\";\")[0]\n",
        "        propType = pair.split(\";\")[1]\n",
        "        export_ns.add(getNamespacePart(propName))\n",
        "        export_mappings[getLocalPart(propName)] = propName\n",
        "        #if a mapping (a column in the source file) is defined for the property and property is not a unique id\n",
        "        if getLocalPart(propName) in mappings[getLocalPart(row.curi)] and getLocalPart(propName) != mappings[getLocalPart(row.curi)][\"@uniqueId\"]:\n",
        "          cypher.append(\"set n.\" + getLocalPart(propName) + \" = record.`\" + mappings[getLocalPart(row.curi)][getLocalPart(propName)] + \"`\")\n",
        "      cypher.append(\"return count(*) as total\") \n",
        "      cypher_import[getLocalPart(row.curi)] = ' \\n'.join(cypher)\n",
        "\n",
        "\n",
        "  rels_query = \"\"\"\n",
        "  prefix owl: <http://www.w3.org/2002/07/owl#> \n",
        "  prefix rdf: <http://www.w3.org/1999/02/22-rdf-syntax-ns#> \n",
        "\n",
        "  SELECT DISTINCT ?rel ?dom ?ran #(GROUP_CONCAT(DISTINCT ?relTriplet ; SEPARATOR=\",\") AS ?rels)\n",
        "  WHERE {\n",
        "      ?rel a ?propertyClass .\n",
        "      filter(?propertyClass in (rdf:Property, owl:ObjectProperty, owl:FunctionalProperty, owl:AsymmetricProperty, \n",
        "            owl:InverseFunctionalProperty, owl:IrreflexiveProperty, owl:ReflexiveProperty, owl:SymmetricProperty, owl:TransitiveProperty))\n",
        "      \n",
        "      ?rel rdfs:domain ?dom ;\n",
        "        rdfs:range ?ran .\n",
        "      \n",
        "      #BIND (concat(str(?rel),';',str(?dom),';',str(?range)) AS ?relTriplet)\n",
        "      \n",
        "    }\"\"\"\n",
        "\n",
        "  for row in g.query(rels_query):\n",
        "    export_ns.add(getNamespacePart(row.rel))\n",
        "    export_mappings[getLocalPart(row.rel)] = str(row.rel)\n",
        "    cypher = []\n",
        "    cypher.append(\"unwind $records AS record\")\n",
        "    cypher.append(\"match (source:\" + getLocalPart(row.dom) + \" { `\" + mappings[getLocalPart(row.dom)][\"@uniqueId\"] + \"`: record.`\" + mappings[getLocalPart(row.rel)][\"@from\"] + \"`} )\")\n",
        "    cypher.append(\"match (target:\" + getLocalPart(row.ran) + \" { `\" + mappings[getLocalPart(row.ran)][\"@uniqueId\"] + \"`: record.`\" + mappings[getLocalPart(row.rel)][\"@to\"] + \"`} )\")\n",
        "    cypher.append(\"merge (source)-[r:`\"+ getLocalPart(row.rel) +\"`]->(target)\")\n",
        "    cypher.append(\"return count(*) as total\") \n",
        "    cypher_import[getLocalPart(row.rel)] = ' \\n'.join(cypher)\n",
        "\n",
        "\n",
        "  nscount = 0\n",
        "  mapping_export_cypher = []\n",
        "  \n",
        "  for ns in export_ns:\n",
        "    mapping_export_cypher.append(\"call n10s.nsprefixes.add('ns\" + str(nscount) + \"','\" + ns + \"');\")\n",
        "    nscount+=1\n",
        "\n",
        "  for k in export_mappings.keys():\n",
        "    mapping_export_cypher.append(\"call n10s.mapping.add('\" + export_mappings[k] + \"','\" + k + \"');\")\n",
        "\n",
        "  return cypher_import ,  mapping_export_cypher\n",
        "\n",
        "\n"
      ],
      "metadata": {
        "id": "Ouw2B3BmHhn5"
      },
      "execution_count": null,
      "outputs": []
    },
    {
      "cell_type": "code",
      "source": [
        "cypher_import , mapping_defs = getLoadersFromOnto(\"https://raw.githubusercontent.com/jbarrasa/goingmeta/main/session5/ontos/rail.ttl\",\"turtle\",railMappings)\n",
        "\n",
        "print(\"#LOADERS:\\n\\n\")\n",
        "for q in cypher_import.keys():\n",
        "  print(q + \": \\n\\nfile: \" + railMappings[q][\"@fileName\"] + \"\\n\\n\"+ cypher_import[q] + \"\\n\\n\")\n",
        "\n",
        "print(\"#EXPORT MAPPINGS (for RDF API):\\n\\n\")\n",
        "for md in mapping_defs:\n",
        "  print(md)"
      ],
      "metadata": {
        "id": "tVikXP3oTs9K"
      },
      "execution_count": null,
      "outputs": []
    },
    {
      "cell_type": "code",
      "source": [
        "# Utility function to write to Neo4j in batch mode.\n",
        "\n",
        "def insert_data(session, query, frame, batch_size = 500):\n",
        "\n",
        "    total = 0\n",
        "    batch = 0\n",
        "    start = time.time()\n",
        "    result = None\n",
        "    \n",
        "    while batch * batch_size < len(frame):\n",
        "        res = session.write_transaction( lambda tx: tx.run(query,\n",
        "                      parameters = {'records': frame[batch*batch_size:(batch+1)*batch_size].to_dict('records')}).data())\n",
        "\n",
        "        total += res[0]['total']\n",
        "        batch += 1\n",
        "        result = {\"total\":total, \n",
        "                  \"batches\":batch, \n",
        "                  \"time\":time.time()-start}\n",
        "        print(result)\n",
        "        \n",
        "    return result"
      ],
      "metadata": {
        "id": "ztPHkOD8KNx3"
      },
      "execution_count": null,
      "outputs": []
    },
    {
      "cell_type": "code",
      "source": [
        "import pandas as pd\n",
        "from neo4j import GraphDatabase, basic_auth\n",
        "\n",
        "driver = GraphDatabase.driver(\n",
        "  \"bolt://3.84.57.61:7687\",\n",
        "  auth=basic_auth(\"neo4j\", \"south-kettles-harmony\"))\n",
        "\n",
        "session = driver.session(database=\"neo4j\")\n",
        "\n",
        "cypher_import , mapping_defs = getLoadersFromOnto(\"https://raw.githubusercontent.com/jbarrasa/goingmeta/main/session5/ontos/rail.ttl\",\"turtle\",railMappings)\n",
        "\n",
        "for q in cypher_import.keys():\n",
        "  print(\"about to import \" + q + \" from file \" + railMappings[q][\"@fileName\"])\n",
        "  df = pd.read_csv(railMappings[q][\"@fileName\"])\n",
        "  result = insert_data(session, cypher_import[q], df, batch_size = 300) \n",
        "  print(result)\n",
        "\n",
        "for md in mapping_defs:\n",
        "  session.run(md)\n",
        "  "
      ],
      "metadata": {
        "id": "W2b4j854JkAO"
      },
      "execution_count": null,
      "outputs": []
    }
  ]
}